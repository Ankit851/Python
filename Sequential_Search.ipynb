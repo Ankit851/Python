{
  "nbformat": 4,
  "nbformat_minor": 0,
  "metadata": {
    "colab": {
      "name": "Sequential_Search.ipynb",
      "provenance": [],
      "collapsed_sections": [],
      "authorship_tag": "ABX9TyMpCRmfs4I+B2jfQwP3Mf3H",
      "include_colab_link": true
    },
    "kernelspec": {
      "name": "python3",
      "display_name": "Python 3"
    }
  },
  "cells": [
    {
      "cell_type": "markdown",
      "metadata": {
        "id": "view-in-github",
        "colab_type": "text"
      },
      "source": [
        "<a href=\"https://colab.research.google.com/github/Ankit851/Python/blob/master/Sequential_Search.ipynb\" target=\"_parent\"><img src=\"https://colab.research.google.com/assets/colab-badge.svg\" alt=\"Open In Colab\"/></a>"
      ]
    },
    {
      "cell_type": "code",
      "metadata": {
        "id": "TuG_g68Xsb7q"
      },
      "source": [
        "# is random , not fixed length\r\n",
        "x = [10,1,5,93,51,7,16]"
      ],
      "execution_count": 7,
      "outputs": []
    },
    {
      "cell_type": "code",
      "metadata": {
        "colab": {
          "base_uri": "https://localhost:8080/"
        },
        "id": "8iTHM6CrswOb",
        "outputId": "4140f741-5859-46c7-fc30-d1b887e926ff"
      },
      "source": [
        "len(x)"
      ],
      "execution_count": 8,
      "outputs": [
        {
          "output_type": "execute_result",
          "data": {
            "text/plain": [
              "7"
            ]
          },
          "metadata": {
            "tags": []
          },
          "execution_count": 8
        }
      ]
    },
    {
      "cell_type": "code",
      "metadata": {
        "id": "rlWS6vxWw4V6"
      },
      "source": [
        "y = True"
      ],
      "execution_count": 9,
      "outputs": []
    },
    {
      "cell_type": "code",
      "metadata": {
        "colab": {
          "base_uri": "https://localhost:8080/"
        },
        "id": "aHI2SUSyw53I",
        "outputId": "76f2afa2-181d-4e30-c555-cd295248176e"
      },
      "source": [
        "not y"
      ],
      "execution_count": 10,
      "outputs": [
        {
          "output_type": "execute_result",
          "data": {
            "text/plain": [
              "False"
            ]
          },
          "metadata": {
            "tags": []
          },
          "execution_count": 10
        }
      ]
    },
    {
      "cell_type": "code",
      "metadata": {
        "id": "DQU09FU-w7PY"
      },
      "source": [
        "# algo : linear search\r\n",
        "def lwss(arr,item):\r\n",
        "    position = 0\r\n",
        "    found = False\r\n",
        "    \r\n",
        "    while position < len(arr) and not found:\r\n",
        "        # search for 16 item\r\n",
        "        if x[position] == item:\r\n",
        "            found = True\r\n",
        "        else:\r\n",
        "            position+=1\r\n",
        "    return found"
      ],
      "execution_count": 11,
      "outputs": []
    },
    {
      "cell_type": "code",
      "metadata": {
        "colab": {
          "base_uri": "https://localhost:8080/"
        },
        "id": "1LvVfRklw79F",
        "outputId": "97929738-6941-4647-cea0-bbc1755bd0f5"
      },
      "source": [
        "lwss(x,41)"
      ],
      "execution_count": 12,
      "outputs": [
        {
          "output_type": "execute_result",
          "data": {
            "text/plain": [
              "False"
            ]
          },
          "metadata": {
            "tags": []
          },
          "execution_count": 12
        }
      ]
    }
  ]
}